{
 "cells": [
  {
   "cell_type": "code",
   "execution_count": 2,
   "metadata": {},
   "outputs": [],
   "source": [
    "import numpy as np"
   ]
  },
  {
   "cell_type": "code",
   "execution_count": 51,
   "metadata": {},
   "outputs": [],
   "source": [
    "n=2000"
   ]
  },
  {
   "cell_type": "code",
   "execution_count": 52,
   "metadata": {},
   "outputs": [
    {
     "name": "stdout",
     "output_type": "stream",
     "text": [
      "[110.83760588 113.80621086  80.79748874  94.53705098  95.76546918]\n"
     ]
    }
   ],
   "source": [
    "CF_1_mu=100\n",
    "CF_1_sigma=10\n",
    "CF_2_mu=100\n",
    "CF_2_sigma=10\n",
    "CF1=numpy.random.normal(CF_1_mu, CF_2_sigma, n)\n",
    "print(CF1[:5])"
   ]
  },
  {
   "cell_type": "code",
   "execution_count": 53,
   "metadata": {},
   "outputs": [
    {
     "name": "stdout",
     "output_type": "stream",
     "text": [
      "[ 0.03034054 -0.01188374  0.02937446  0.02885923  0.02619708]\n"
     ]
    }
   ],
   "source": [
    "df=5\n",
    "IR_r=0.02\n",
    "IR_mu=0.03\n",
    "IR_sigma=0.01\n",
    "EQ_mu=0.03\n",
    "EQ_sigma=0.02\n",
    "Czynnik_IR_1=IR_mu + np.random.standard_t(df,n)*IR_sigma\n",
    "Czynnik_EQ_1=EQ_mu + np.random.standard_t(df,n)*EQ_sigma\n",
    "print(Czynnik_EQ_1[:5])"
   ]
  },
  {
   "cell_type": "markdown",
   "metadata": {},
   "source": [
    "Liczymy wartość obecną CF z punktu widzenia momentu 0"
   ]
  },
  {
   "cell_type": "code",
   "execution_count": 54,
   "metadata": {},
   "outputs": [
    {
     "name": "stdout",
     "output_type": "stream",
     "text": [
      "194.15609381007306\n"
     ]
    }
   ],
   "source": [
    "PV_CF=CF_1_mu / (1+IR_r) + CF_2_mu / (1+IR_r)**2\n",
    "print(PV_CF)"
   ]
  },
  {
   "cell_type": "markdown",
   "metadata": {},
   "source": [
    "Wartość CF z punktu widzenia momentu 1"
   ]
  },
  {
   "cell_type": "code",
   "execution_count": 55,
   "metadata": {},
   "outputs": [
    {
     "name": "stdout",
     "output_type": "stream",
     "text": [
      "[208.87682157 211.84542655 178.83670443 192.57626666 193.80468487]\n"
     ]
    }
   ],
   "source": [
    "PV_CF_t1=CF1 + CF_2_mu/(1+IR_r)\n",
    "print(PV_CF_t1[:5])"
   ]
  },
  {
   "cell_type": "code",
   "execution_count": 56,
   "metadata": {},
   "outputs": [
    {
     "data": {
      "text/plain": [
       "array([-14.72072776, -17.68933274,  15.31938938,   1.57982715,\n",
       "         0.35140894])"
      ]
     },
     "execution_count": 56,
     "metadata": {},
     "output_type": "execute_result"
    }
   ],
   "source": [
    "Strata_L_t1=PV_CF - PV_CF_t1\n",
    "Strata_L_t1[:5]"
   ]
  },
  {
   "cell_type": "code",
   "execution_count": 57,
   "metadata": {},
   "outputs": [
    {
     "name": "stdout",
     "output_type": "stream",
     "text": [
      "[206.0681071  197.62325195 205.87489247 205.77184668 205.23941618]\n"
     ]
    }
   ],
   "source": [
    "EQ_t0=200\n",
    "EQ_t1=EQ_t0*(1+Czynnik_EQ_1)\n",
    "print(EQ_t1[:5])"
   ]
  },
  {
   "cell_type": "code",
   "execution_count": 58,
   "metadata": {},
   "outputs": [
    {
     "name": "stdout",
     "output_type": "stream",
     "text": [
      "[ 6.0681071  -2.37674805  5.87489247  5.77184668  5.23941618]\n"
     ]
    }
   ],
   "source": [
    "Strata_A =  EQ_t1- EQ_t0\n",
    "print(Strata_A[:5])"
   ]
  },
  {
   "cell_type": "code",
   "execution_count": 59,
   "metadata": {},
   "outputs": [
    {
     "name": "stdout",
     "output_type": "stream",
     "text": [
      "[ -8.65262066 -20.06608079  21.19428185   7.35167383   5.59082513]\n"
     ]
    }
   ],
   "source": [
    "Strata=Strata_L_t1 + Strata_A\n",
    "print(Strata[:5])"
   ]
  },
  {
   "cell_type": "code",
   "execution_count": 60,
   "metadata": {},
   "outputs": [
    {
     "data": {
      "text/plain": [
       "2.2740694584249144"
      ]
     },
     "execution_count": 60,
     "metadata": {},
     "output_type": "execute_result"
    }
   ],
   "source": [
    "np.mean(Strata)\n"
   ]
  },
  {
   "cell_type": "code",
   "execution_count": 61,
   "metadata": {},
   "outputs": [
    {
     "data": {
      "text/plain": [
       "5.954247099127424"
      ]
     },
     "execution_count": 61,
     "metadata": {},
     "output_type": "execute_result"
    }
   ],
   "source": [
    "np.mean(Strata_A)"
   ]
  },
  {
   "cell_type": "code",
   "execution_count": 63,
   "metadata": {},
   "outputs": [
    {
     "ename": "AttributeError",
     "evalue": "module 'numpy' has no attribute 'quantile'",
     "output_type": "error",
     "traceback": [
      "\u001b[1;31m---------------------------------------------------------------------------\u001b[0m",
      "\u001b[1;31mAttributeError\u001b[0m                            Traceback (most recent call last)",
      "\u001b[1;32m<ipython-input-63-47dfc734dbb8>\u001b[0m in \u001b[0;36m<module>\u001b[1;34m()\u001b[0m\n\u001b[1;32m----> 1\u001b[1;33m \u001b[0mnp\u001b[0m\u001b[1;33m.\u001b[0m\u001b[0mquantile\u001b[0m\u001b[1;33m(\u001b[0m\u001b[0mStrata_L\u001b[0m\u001b[1;33m,\u001b[0m\u001b[1;36m0.75\u001b[0m\u001b[1;33m)\u001b[0m\u001b[1;33m\u001b[0m\u001b[0m\n\u001b[0m",
      "\u001b[1;31mAttributeError\u001b[0m: module 'numpy' has no attribute 'quantile'"
     ]
    }
   ],
   "source": [
    "np.quantile(Strata_L,0.75)"
   ]
  },
  {
   "cell_type": "code",
   "execution_count": null,
   "metadata": {},
   "outputs": [],
   "source": []
  }
 ],
 "metadata": {
  "kernelspec": {
   "display_name": "Python 3",
   "language": "python",
   "name": "python3"
  },
  "language_info": {
   "codemirror_mode": {
    "name": "ipython",
    "version": 3
   },
   "file_extension": ".py",
   "mimetype": "text/x-python",
   "name": "python",
   "nbconvert_exporter": "python",
   "pygments_lexer": "ipython3",
   "version": "3.6.5"
  }
 },
 "nbformat": 4,
 "nbformat_minor": 2
}
